{
 "cells": [
  {
   "cell_type": "code",
   "execution_count": 1,
   "metadata": {
    "papermill": {
     "duration": 0.026317,
     "end_time": "2021-01-21T06:13:57.657930",
     "exception": false,
     "start_time": "2021-01-21T06:13:57.631613",
     "status": "completed"
    },
    "tags": []
   },
   "outputs": [],
   "source": [
    "import pandas as pd"
   ]
  },
  {
   "cell_type": "markdown",
   "metadata": {
    "papermill": {
     "duration": 0.017235,
     "end_time": "2021-01-21T06:13:57.694718",
     "exception": false,
     "start_time": "2021-01-21T06:13:57.677483",
     "status": "completed"
    },
    "tags": []
   },
   "source": [
    "**Read Salaries.csv as a dataframe called df**"
   ]
  },
  {
   "cell_type": "code",
   "execution_count": 4,
   "metadata": {
    "papermill": {
     "duration": 0.59598,
     "end_time": "2021-01-21T06:13:58.308221",
     "exception": false,
     "start_time": "2021-01-21T06:13:57.712241",
     "status": "completed"
    },
    "tags": []
   },
   "outputs": [],
   "source": [
    "df = pd.read_csv('data//Salaries.csv', low_memory=False)"
   ]
  },
  {
   "cell_type": "markdown",
   "metadata": {
    "papermill": {
     "duration": 0.01713,
     "end_time": "2021-01-21T06:13:58.342856",
     "exception": false,
     "start_time": "2021-01-21T06:13:58.325726",
     "status": "completed"
    },
    "tags": []
   },
   "source": [
    "**Check the head of the DataFrame.**"
   ]
  },
  {
   "cell_type": "code",
   "execution_count": null,
   "metadata": {},
   "outputs": [],
   "source": []
  },
  {
   "cell_type": "markdown",
   "metadata": {
    "papermill": {
     "duration": 0.017396,
     "end_time": "2021-01-21T06:13:58.414742",
     "exception": false,
     "start_time": "2021-01-21T06:13:58.397346",
     "status": "completed"
    },
    "tags": []
   },
   "source": [
    "**Use the .info() method to find out how many entries there are.**"
   ]
  },
  {
   "cell_type": "code",
   "execution_count": null,
   "metadata": {},
   "outputs": [],
   "source": []
  },
  {
   "cell_type": "markdown",
   "metadata": {
    "papermill": {
     "duration": 0.017495,
     "end_time": "2021-01-21T06:13:58.486343",
     "exception": false,
     "start_time": "2021-01-21T06:13:58.468848",
     "status": "completed"
    },
    "tags": []
   },
   "source": [
    "**What is the average BasePay ?**"
   ]
  },
  {
   "cell_type": "code",
   "execution_count": null,
   "metadata": {},
   "outputs": [],
   "source": []
  },
  {
   "cell_type": "markdown",
   "metadata": {
    "papermill": {
     "duration": 0.018473,
     "end_time": "2021-01-21T06:13:58.558339",
     "exception": false,
     "start_time": "2021-01-21T06:13:58.539866",
     "status": "completed"
    },
    "tags": []
   },
   "source": [
    "**What is the highest amount of OvertimePay in the dataset?**"
   ]
  },
  {
   "cell_type": "code",
   "execution_count": null,
   "metadata": {},
   "outputs": [],
   "source": []
  },
  {
   "cell_type": "markdown",
   "metadata": {
    "papermill": {
     "duration": 0.019471,
     "end_time": "2021-01-21T06:13:58.632093",
     "exception": false,
     "start_time": "2021-01-21T06:13:58.612622",
     "status": "completed"
    },
    "tags": []
   },
   "source": [
    "**What is the job title of  JOSEPH DRISCOLL ? Note: Use all caps, otherwise you may get an answer that doesn't match up (there is also a lowercase Joseph Driscoll).**"
   ]
  },
  {
   "cell_type": "code",
   "execution_count": null,
   "metadata": {},
   "outputs": [],
   "source": []
  },
  {
   "cell_type": "markdown",
   "metadata": {
    "papermill": {
     "duration": 0.01733,
     "end_time": "2021-01-21T06:13:58.705825",
     "exception": false,
     "start_time": "2021-01-21T06:13:58.688495",
     "status": "completed"
    },
    "tags": []
   },
   "source": [
    "**How much does JOSEPH DRISCOLL make (including benefits)?**"
   ]
  },
  {
   "cell_type": "code",
   "execution_count": null,
   "metadata": {},
   "outputs": [],
   "source": []
  },
  {
   "cell_type": "markdown",
   "metadata": {
    "papermill": {
     "duration": 0.016859,
     "end_time": "2021-01-21T06:13:58.775217",
     "exception": false,
     "start_time": "2021-01-21T06:13:58.758358",
     "status": "completed"
    },
    "tags": []
   },
   "source": [
    "**What is the name of highest paid person (including benefits)?**"
   ]
  },
  {
   "cell_type": "code",
   "execution_count": null,
   "metadata": {},
   "outputs": [],
   "source": []
  },
  {
   "cell_type": "markdown",
   "metadata": {
    "papermill": {
     "duration": 0.018438,
     "end_time": "2021-01-21T06:13:58.847517",
     "exception": false,
     "start_time": "2021-01-21T06:13:58.829079",
     "status": "completed"
    },
    "tags": []
   },
   "source": [
    "**What is the name of lowest paid person (including benefits)? Do you notice something strange about how much he or she is paid?**"
   ]
  },
  {
   "cell_type": "code",
   "execution_count": null,
   "metadata": {},
   "outputs": [],
   "source": []
  },
  {
   "cell_type": "markdown",
   "metadata": {
    "papermill": {
     "duration": 0.017112,
     "end_time": "2021-01-21T06:13:58.917653",
     "exception": false,
     "start_time": "2021-01-21T06:13:58.900541",
     "status": "completed"
    },
    "tags": []
   },
   "source": [
    "**What was the average (mean) BasePay of all employees per year? (2011-2014)?**"
   ]
  },
  {
   "cell_type": "markdown",
   "metadata": {
    "papermill": {
     "duration": 0.017313,
     "end_time": "2021-01-21T06:13:58.988347",
     "exception": false,
     "start_time": "2021-01-21T06:13:58.971034",
     "status": "completed"
    },
    "tags": []
   },
   "source": [
    "**How many unique job titles are there?**"
   ]
  },
  {
   "cell_type": "code",
   "execution_count": null,
   "metadata": {},
   "outputs": [],
   "source": []
  },
  {
   "cell_type": "markdown",
   "metadata": {
    "papermill": {
     "duration": 0.018079,
     "end_time": "2021-01-21T06:13:59.058584",
     "exception": false,
     "start_time": "2021-01-21T06:13:59.040505",
     "status": "completed"
    },
    "tags": []
   },
   "source": [
    "**What are the top 5 most common jobs?**"
   ]
  },
  {
   "cell_type": "code",
   "execution_count": null,
   "metadata": {},
   "outputs": [],
   "source": []
  },
  {
   "cell_type": "markdown",
   "metadata": {
    "papermill": {
     "duration": 0.017971,
     "end_time": "2021-01-21T06:13:59.129857",
     "exception": false,
     "start_time": "2021-01-21T06:13:59.111886",
     "status": "completed"
    },
    "tags": []
   },
   "source": [
    "**How many Job Titles were represented by only one person in 2013? (e.g. Job Titles with only one occurence in 2013?)**"
   ]
  },
  {
   "cell_type": "code",
   "execution_count": null,
   "metadata": {},
   "outputs": [],
   "source": []
  },
  {
   "cell_type": "markdown",
   "metadata": {
    "papermill": {
     "duration": 0.017271,
     "end_time": "2021-01-21T06:13:59.199926",
     "exception": false,
     "start_time": "2021-01-21T06:13:59.182655",
     "status": "completed"
    },
    "tags": []
   },
   "source": [
    "**How many people have the word Chief in their job title?**"
   ]
  },
  {
   "cell_type": "code",
   "execution_count": null,
   "metadata": {},
   "outputs": [],
   "source": []
  }
 ],
 "metadata": {
  "kernelspec": {
   "display_name": "Python 3 (ipykernel)",
   "language": "python",
   "name": "python3"
  },
  "language_info": {
   "codemirror_mode": {
    "name": "ipython",
    "version": 3
   },
   "file_extension": ".py",
   "mimetype": "text/x-python",
   "name": "python",
   "nbconvert_exporter": "python",
   "pygments_lexer": "ipython3",
   "version": "3.10.7"
  },
  "papermill": {
   "duration": 6.843542,
   "end_time": "2021-01-21T06:13:59.359213",
   "environment_variables": {},
   "exception": null,
   "input_path": "__notebook__.ipynb",
   "output_path": "__notebook__.ipynb",
   "parameters": {},
   "start_time": "2021-01-21T06:13:52.515671",
   "version": "2.1.0"
  }
 },
 "nbformat": 4,
 "nbformat_minor": 4
}
